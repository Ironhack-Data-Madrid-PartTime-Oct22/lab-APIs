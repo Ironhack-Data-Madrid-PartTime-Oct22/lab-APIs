{
 "cells": [
  {
   "cell_type": "code",
   "execution_count": 83,
   "id": "a58b4af7",
   "metadata": {},
   "outputs": [],
   "source": [
    "import pandas as pd\n",
    "import requests"
   ]
  },
  {
   "cell_type": "code",
   "execution_count": 25,
   "id": "83ef1f00",
   "metadata": {},
   "outputs": [],
   "source": [
    "#Esta es la url si queremos hacer una query relacionada a un set en concreto de Magic:The Gathering\n",
    "url = \"https://api.magicthegathering.io/v1/sets\"\n",
    "#Si quisiesemos hacer una query relacionada a una carta en concreto seria con esta otra url:\n",
    "#url = \"https://api.magicthegathering.io/v1/cards\""
   ]
  },
  {
   "cell_type": "code",
   "execution_count": 35,
   "id": "f8934757",
   "metadata": {},
   "outputs": [],
   "source": [
    "#Los parametros que voy a usar es un nombre de una edición, como hay varias ediciones con este nombre me responderá la \n",
    "#query con todas las ediciones que contengan Innistrad, ademas tambien pido la fecha de salida de cada una de estas ediciones.\n",
    "params = {\"name\":\"Innistrad\",\n",
    "          \"releaseDate\":\"Innistrad\"\n",
    "      }\n"
   ]
  },
  {
   "cell_type": "code",
   "execution_count": 36,
   "id": "4985c436",
   "metadata": {},
   "outputs": [],
   "source": [
    "res = requests.get(url,params=params)"
   ]
  },
  {
   "cell_type": "code",
   "execution_count": 37,
   "id": "1ce23225",
   "metadata": {},
   "outputs": [
    {
     "data": {
      "text/plain": [
       "200"
      ]
     },
     "execution_count": 37,
     "metadata": {},
     "output_type": "execute_result"
    }
   ],
   "source": [
    "res.status_code"
   ]
  },
  {
   "cell_type": "code",
   "execution_count": 81,
   "id": "25d8d61f",
   "metadata": {},
   "outputs": [],
   "source": [
    "res_cartas = res.json()"
   ]
  },
  {
   "cell_type": "code",
   "execution_count": 76,
   "id": "470887ef",
   "metadata": {},
   "outputs": [],
   "source": [
    "\"\"\"\"Aqui creo el dataframe, como es una lista de diccionarios dentro de un diccionario tengo que crear el dataframe a partir de \n",
    "dentro del diccionario.\n",
    "\"\"\"\"\n",
    "Innistrad_sets = pd.DataFrame(res_cartas[\"sets\"])"
   ]
  },
  {
   "cell_type": "code",
   "execution_count": 82,
   "id": "9101fd8b",
   "metadata": {},
   "outputs": [
    {
     "data": {
      "text/html": [
       "<div>\n",
       "<style scoped>\n",
       "    .dataframe tbody tr th:only-of-type {\n",
       "        vertical-align: middle;\n",
       "    }\n",
       "\n",
       "    .dataframe tbody tr th {\n",
       "        vertical-align: top;\n",
       "    }\n",
       "\n",
       "    .dataframe thead th {\n",
       "        text-align: right;\n",
       "    }\n",
       "</style>\n",
       "<table border=\"1\" class=\"dataframe\">\n",
       "  <thead>\n",
       "    <tr style=\"text-align: right;\">\n",
       "      <th></th>\n",
       "      <th>code</th>\n",
       "      <th>name</th>\n",
       "      <th>type</th>\n",
       "      <th>releaseDate</th>\n",
       "      <th>onlineOnly</th>\n",
       "      <th>block</th>\n",
       "    </tr>\n",
       "  </thead>\n",
       "  <tbody>\n",
       "    <tr>\n",
       "      <th>0</th>\n",
       "      <td>DBL</td>\n",
       "      <td>Innistrad: Double Feature</td>\n",
       "      <td>draft_innovation</td>\n",
       "      <td>2022-01-28</td>\n",
       "      <td>False</td>\n",
       "      <td>NaN</td>\n",
       "    </tr>\n",
       "    <tr>\n",
       "      <th>1</th>\n",
       "      <td>ISD</td>\n",
       "      <td>Innistrad</td>\n",
       "      <td>expansion</td>\n",
       "      <td>2011-09-30</td>\n",
       "      <td>False</td>\n",
       "      <td>Innistrad</td>\n",
       "    </tr>\n",
       "    <tr>\n",
       "      <th>2</th>\n",
       "      <td>MID</td>\n",
       "      <td>Innistrad: Midnight Hunt</td>\n",
       "      <td>expansion</td>\n",
       "      <td>2021-09-24</td>\n",
       "      <td>False</td>\n",
       "      <td>Innistrad: Double Feature</td>\n",
       "    </tr>\n",
       "    <tr>\n",
       "      <th>3</th>\n",
       "      <td>MVOW</td>\n",
       "      <td>Innistrad: Crimson Vow Minigames</td>\n",
       "      <td>funny</td>\n",
       "      <td>2021-11-19</td>\n",
       "      <td>False</td>\n",
       "      <td>NaN</td>\n",
       "    </tr>\n",
       "    <tr>\n",
       "      <th>4</th>\n",
       "      <td>PISD</td>\n",
       "      <td>Innistrad Promos</td>\n",
       "      <td>promo</td>\n",
       "      <td>2011-09-24</td>\n",
       "      <td>False</td>\n",
       "      <td>Innistrad</td>\n",
       "    </tr>\n",
       "  </tbody>\n",
       "</table>\n",
       "</div>"
      ],
      "text/plain": [
       "   code                              name              type releaseDate  \\\n",
       "0   DBL         Innistrad: Double Feature  draft_innovation  2022-01-28   \n",
       "1   ISD                         Innistrad         expansion  2011-09-30   \n",
       "2   MID          Innistrad: Midnight Hunt         expansion  2021-09-24   \n",
       "3  MVOW  Innistrad: Crimson Vow Minigames             funny  2021-11-19   \n",
       "4  PISD                  Innistrad Promos             promo  2011-09-24   \n",
       "\n",
       "   onlineOnly                      block  \n",
       "0       False                        NaN  \n",
       "1       False                  Innistrad  \n",
       "2       False  Innistrad: Double Feature  \n",
       "3       False                        NaN  \n",
       "4       False                  Innistrad  "
      ]
     },
     "execution_count": 82,
     "metadata": {},
     "output_type": "execute_result"
    }
   ],
   "source": [
    "#Aqui ya tengo el DataFrame creado.\n",
    "Innistrad_sets.head(5)"
   ]
  },
  {
   "cell_type": "code",
   "execution_count": null,
   "id": "ffe242c3",
   "metadata": {},
   "outputs": [],
   "source": []
  }
 ],
 "metadata": {
  "kernelspec": {
   "display_name": "ironhack",
   "language": "python",
   "name": "ironhack"
  },
  "language_info": {
   "codemirror_mode": {
    "name": "ipython",
    "version": 3
   },
   "file_extension": ".py",
   "mimetype": "text/x-python",
   "name": "python",
   "nbconvert_exporter": "python",
   "pygments_lexer": "ipython3",
   "version": "3.9.13"
  }
 },
 "nbformat": 4,
 "nbformat_minor": 5
}
