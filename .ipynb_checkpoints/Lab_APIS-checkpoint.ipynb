{
 "cells": [
  {
   "cell_type": "code",
   "execution_count": 1,
   "metadata": {},
   "outputs": [],
   "source": [
    "import requests\n",
    "import json\n",
    "import pandas as pd\n"
   ]
  },
  {
   "cell_type": "markdown",
   "metadata": {},
   "source": [
    "FBI API "
   ]
  },
  {
   "cell_type": "code",
   "execution_count": 2,
   "metadata": {},
   "outputs": [
    {
     "data": {
      "text/plain": [
       "50"
      ]
     },
     "execution_count": 2,
     "metadata": {},
     "output_type": "execute_result"
    }
   ],
   "source": [
    "llamada= requests.get('https://api.fbi.gov/wanted/v1/list', params={'page': 1, 'pageSize': 50}).json()\n",
    "len(llamada[\"items\"])"
   ]
  },
  {
   "cell_type": "code",
   "execution_count": 3,
   "metadata": {},
   "outputs": [],
   "source": [
    "data_json= []\n",
    "\n",
    "for page in range(1,21):\n",
    "    data_= requests.get('https://api.fbi.gov/wanted/v1/list', params={'page': page, 'pageSize': 50})\n",
    "    data_total=json.loads(data_.content)\n",
    "    data_json.append(data_total)\n"
   ]
  },
  {
   "cell_type": "code",
   "execution_count": 4,
   "metadata": {},
   "outputs": [
    {
     "data": {
      "text/plain": [
       "200"
      ]
     },
     "execution_count": 4,
     "metadata": {},
     "output_type": "execute_result"
    }
   ],
   "source": [
    "data_.status_code"
   ]
  },
  {
   "cell_type": "code",
   "execution_count": 5,
   "metadata": {},
   "outputs": [
    {
     "data": {
      "text/plain": [
       "20"
      ]
     },
     "execution_count": 5,
     "metadata": {},
     "output_type": "execute_result"
    }
   ],
   "source": [
    "len(data_json)"
   ]
  },
  {
   "cell_type": "code",
   "execution_count": 6,
   "metadata": {},
   "outputs": [
    {
     "data": {
      "text/plain": [
       "3"
      ]
     },
     "execution_count": 6,
     "metadata": {},
     "output_type": "execute_result"
    }
   ],
   "source": [
    "len(data_json[3])"
   ]
  },
  {
   "cell_type": "code",
   "execution_count": 7,
   "metadata": {},
   "outputs": [
    {
     "data": {
      "text/plain": [
       "7"
      ]
     },
     "execution_count": 7,
     "metadata": {},
     "output_type": "execute_result"
    }
   ],
   "source": [
    "len(data_json[19][\"items\"])"
   ]
  },
  {
   "cell_type": "code",
   "execution_count": 8,
   "metadata": {},
   "outputs": [],
   "source": [
    "df_final = pd.DataFrame()\n",
    "\n",
    "for elemento in range(len(data_json)):\n",
    "    try:\n",
    "        df = pd.DataFrame(data_json[elemento][\"items\"])\n",
    "\n",
    "        df_final = pd.concat([df_final, df], axis = 0)\n",
    "    except:\n",
    "        pass"
   ]
  },
  {
   "cell_type": "code",
   "execution_count": 9,
   "metadata": {},
   "outputs": [
    {
     "data": {
      "text/html": [
       "<div>\n",
       "<style scoped>\n",
       "    .dataframe tbody tr th:only-of-type {\n",
       "        vertical-align: middle;\n",
       "    }\n",
       "\n",
       "    .dataframe tbody tr th {\n",
       "        vertical-align: top;\n",
       "    }\n",
       "\n",
       "    .dataframe thead th {\n",
       "        text-align: right;\n",
       "    }\n",
       "</style>\n",
       "<table border=\"1\" class=\"dataframe\">\n",
       "  <thead>\n",
       "    <tr style=\"text-align: right;\">\n",
       "      <th></th>\n",
       "      <th>height_min</th>\n",
       "      <th>aliases</th>\n",
       "      <th>age_range</th>\n",
       "      <th>race</th>\n",
       "      <th>weight</th>\n",
       "      <th>ncic</th>\n",
       "      <th>person_classification</th>\n",
       "      <th>images</th>\n",
       "      <th>scars_and_marks</th>\n",
       "      <th>build</th>\n",
       "      <th>...</th>\n",
       "      <th>hair</th>\n",
       "      <th>hair_raw</th>\n",
       "      <th>warning_message</th>\n",
       "      <th>age_min</th>\n",
       "      <th>age_max</th>\n",
       "      <th>caution</th>\n",
       "      <th>sex</th>\n",
       "      <th>possible_countries</th>\n",
       "      <th>legat_names</th>\n",
       "      <th>@id</th>\n",
       "    </tr>\n",
       "  </thead>\n",
       "  <tbody>\n",
       "    <tr>\n",
       "      <th>0</th>\n",
       "      <td>NaN</td>\n",
       "      <td>[Jeanine Delbecq, Jeanine C. De Riddere, Jeani...</td>\n",
       "      <td>None</td>\n",
       "      <td>white</td>\n",
       "      <td>130 to 135 pounds (approximately 59 kg)</td>\n",
       "      <td>W762967209</td>\n",
       "      <td>Accomplice</td>\n",
       "      <td>[{'original': 'https://www.fbi.gov/wanted/pare...</td>\n",
       "      <td>None</td>\n",
       "      <td>None</td>\n",
       "      <td>...</td>\n",
       "      <td>brown</td>\n",
       "      <td>Brown</td>\n",
       "      <td>None</td>\n",
       "      <td>NaN</td>\n",
       "      <td>NaN</td>\n",
       "      <td>&lt;p&gt;&lt;a data-linktype=\"external\" data-val=\"https...</td>\n",
       "      <td>Female</td>\n",
       "      <td>None</td>\n",
       "      <td>None</td>\n",
       "      <td>https://api.fbi.gov/@wanted-person/33202d83a98...</td>\n",
       "    </tr>\n",
       "    <tr>\n",
       "      <th>1</th>\n",
       "      <td>63.0</td>\n",
       "      <td>[Francina D. Fernandez, Francina Dacanay]</td>\n",
       "      <td>None</td>\n",
       "      <td>asian</td>\n",
       "      <td>100 pounds</td>\n",
       "      <td>None</td>\n",
       "      <td>Main</td>\n",
       "      <td>[{'original': 'https://www.fbi.gov/wanted/pare...</td>\n",
       "      <td>None</td>\n",
       "      <td>None</td>\n",
       "      <td>...</td>\n",
       "      <td>black</td>\n",
       "      <td>Black</td>\n",
       "      <td>None</td>\n",
       "      <td>NaN</td>\n",
       "      <td>NaN</td>\n",
       "      <td>None</td>\n",
       "      <td>Female</td>\n",
       "      <td>None</td>\n",
       "      <td>None</td>\n",
       "      <td>https://api.fbi.gov/@wanted-person/9bcf6e6250d...</td>\n",
       "    </tr>\n",
       "    <tr>\n",
       "      <th>2</th>\n",
       "      <td>NaN</td>\n",
       "      <td>None</td>\n",
       "      <td>None</td>\n",
       "      <td>hispanic</td>\n",
       "      <td>None</td>\n",
       "      <td>None</td>\n",
       "      <td>Victim</td>\n",
       "      <td>[{'original': 'https://www.fbi.gov/wanted/pare...</td>\n",
       "      <td>Michael has brown eyes and red hair.  He has a...</td>\n",
       "      <td>None</td>\n",
       "      <td>...</td>\n",
       "      <td>None</td>\n",
       "      <td>None</td>\n",
       "      <td>None</td>\n",
       "      <td>NaN</td>\n",
       "      <td>NaN</td>\n",
       "      <td>None</td>\n",
       "      <td>Male</td>\n",
       "      <td>[ARG, ECU, ITA, USA]</td>\n",
       "      <td>None</td>\n",
       "      <td>https://api.fbi.gov/@wanted-person/ed92b954-e7...</td>\n",
       "    </tr>\n",
       "    <tr>\n",
       "      <th>3</th>\n",
       "      <td>30.0</td>\n",
       "      <td>None</td>\n",
       "      <td>None</td>\n",
       "      <td>asian</td>\n",
       "      <td>26 pounds (at time of his disappearance)</td>\n",
       "      <td>None</td>\n",
       "      <td>Victim</td>\n",
       "      <td>[{'original': 'https://www.fbi.gov/wanted/pare...</td>\n",
       "      <td>None</td>\n",
       "      <td>None</td>\n",
       "      <td>...</td>\n",
       "      <td>black</td>\n",
       "      <td>Black</td>\n",
       "      <td>None</td>\n",
       "      <td>NaN</td>\n",
       "      <td>NaN</td>\n",
       "      <td>None</td>\n",
       "      <td>Male</td>\n",
       "      <td>[PAK, USA]</td>\n",
       "      <td>None</td>\n",
       "      <td>https://api.fbi.gov/@wanted-person/a1b2f35673e...</td>\n",
       "    </tr>\n",
       "    <tr>\n",
       "      <th>4</th>\n",
       "      <td>65.0</td>\n",
       "      <td>[Mary Bethlehem]</td>\n",
       "      <td>None</td>\n",
       "      <td>hispanic</td>\n",
       "      <td>110 pounds</td>\n",
       "      <td>W547700968</td>\n",
       "      <td>Main</td>\n",
       "      <td>[{'original': 'https://www.fbi.gov/wanted/pare...</td>\n",
       "      <td>Francesconi has tattoos on her back, lower abd...</td>\n",
       "      <td>None</td>\n",
       "      <td>...</td>\n",
       "      <td>brown</td>\n",
       "      <td>Brown</td>\n",
       "      <td>None</td>\n",
       "      <td>NaN</td>\n",
       "      <td>NaN</td>\n",
       "      <td>None</td>\n",
       "      <td>Female</td>\n",
       "      <td>[ARG]</td>\n",
       "      <td>None</td>\n",
       "      <td>https://api.fbi.gov/@wanted-person/074ce53c-b6...</td>\n",
       "    </tr>\n",
       "  </tbody>\n",
       "</table>\n",
       "<p>5 rows × 53 columns</p>\n",
       "</div>"
      ],
      "text/plain": [
       "   height_min                                            aliases age_range  \\\n",
       "0         NaN  [Jeanine Delbecq, Jeanine C. De Riddere, Jeani...      None   \n",
       "1        63.0          [Francina D. Fernandez, Francina Dacanay]      None   \n",
       "2         NaN                                               None      None   \n",
       "3        30.0                                               None      None   \n",
       "4        65.0                                   [Mary Bethlehem]      None   \n",
       "\n",
       "       race                                    weight        ncic  \\\n",
       "0     white   130 to 135 pounds (approximately 59 kg)  W762967209   \n",
       "1     asian                                100 pounds        None   \n",
       "2  hispanic                                      None        None   \n",
       "3     asian  26 pounds (at time of his disappearance)        None   \n",
       "4  hispanic                                110 pounds  W547700968   \n",
       "\n",
       "  person_classification                                             images  \\\n",
       "0            Accomplice  [{'original': 'https://www.fbi.gov/wanted/pare...   \n",
       "1                  Main  [{'original': 'https://www.fbi.gov/wanted/pare...   \n",
       "2                Victim  [{'original': 'https://www.fbi.gov/wanted/pare...   \n",
       "3                Victim  [{'original': 'https://www.fbi.gov/wanted/pare...   \n",
       "4                  Main  [{'original': 'https://www.fbi.gov/wanted/pare...   \n",
       "\n",
       "                                     scars_and_marks build  ...   hair  \\\n",
       "0                                               None  None  ...  brown   \n",
       "1                                               None  None  ...  black   \n",
       "2  Michael has brown eyes and red hair.  He has a...  None  ...   None   \n",
       "3                                               None  None  ...  black   \n",
       "4  Francesconi has tattoos on her back, lower abd...  None  ...  brown   \n",
       "\n",
       "  hair_raw warning_message age_min age_max  \\\n",
       "0    Brown            None     NaN     NaN   \n",
       "1    Black            None     NaN     NaN   \n",
       "2     None            None     NaN     NaN   \n",
       "3    Black            None     NaN     NaN   \n",
       "4    Brown            None     NaN     NaN   \n",
       "\n",
       "                                             caution     sex  \\\n",
       "0  <p><a data-linktype=\"external\" data-val=\"https...  Female   \n",
       "1                                               None  Female   \n",
       "2                                               None    Male   \n",
       "3                                               None    Male   \n",
       "4                                               None  Female   \n",
       "\n",
       "     possible_countries legat_names  \\\n",
       "0                  None        None   \n",
       "1                  None        None   \n",
       "2  [ARG, ECU, ITA, USA]        None   \n",
       "3            [PAK, USA]        None   \n",
       "4                 [ARG]        None   \n",
       "\n",
       "                                                 @id  \n",
       "0  https://api.fbi.gov/@wanted-person/33202d83a98...  \n",
       "1  https://api.fbi.gov/@wanted-person/9bcf6e6250d...  \n",
       "2  https://api.fbi.gov/@wanted-person/ed92b954-e7...  \n",
       "3  https://api.fbi.gov/@wanted-person/a1b2f35673e...  \n",
       "4  https://api.fbi.gov/@wanted-person/074ce53c-b6...  \n",
       "\n",
       "[5 rows x 53 columns]"
      ]
     },
     "execution_count": 9,
     "metadata": {},
     "output_type": "execute_result"
    }
   ],
   "source": [
    "df_final.head()"
   ]
  },
  {
   "cell_type": "code",
   "execution_count": 10,
   "metadata": {},
   "outputs": [
    {
     "data": {
      "text/plain": [
       "(957, 53)"
      ]
     },
     "execution_count": 10,
     "metadata": {},
     "output_type": "execute_result"
    }
   ],
   "source": [
    "df_final.shape"
   ]
  },
  {
   "cell_type": "code",
   "execution_count": 11,
   "metadata": {},
   "outputs": [],
   "source": [
    "#df_final.info()"
   ]
  },
  {
   "cell_type": "code",
   "execution_count": 12,
   "metadata": {},
   "outputs": [
    {
     "data": {
      "text/plain": [
       "Index(['height_min', 'aliases', 'age_range', 'race', 'weight', 'ncic',\n",
       "       'person_classification', 'images', 'scars_and_marks', 'build',\n",
       "       'coordinates', 'path', 'race_raw', 'eyes', 'locations', 'publication',\n",
       "       'url', 'status', 'eyes_raw', 'details', 'additional_information',\n",
       "       'complexion', 'uid', 'modified', 'reward_text', 'possible_states',\n",
       "       'remarks', 'title', 'subjects', 'files', 'occupations', 'weight_min',\n",
       "       'suspects', 'weight_max', 'description', 'nationality', 'field_offices',\n",
       "       'languages', 'reward_min', 'height_max', 'reward_max',\n",
       "       'dates_of_birth_used', 'place_of_birth', 'hair', 'hair_raw',\n",
       "       'warning_message', 'age_min', 'age_max', 'caution', 'sex',\n",
       "       'possible_countries', 'legat_names', '@id'],\n",
       "      dtype='object')"
      ]
     },
     "execution_count": 12,
     "metadata": {},
     "output_type": "execute_result"
    }
   ],
   "source": [
    "df_final.columns"
   ]
  },
  {
   "cell_type": "code",
   "execution_count": 13,
   "metadata": {},
   "outputs": [],
   "source": [
    "df_final.drop([\"images\",\"build\",\"race_raw\",\"url\",\"eyes_raw\",\"uid\",\"files\",\"weight_min\",\"weight_max\",\"hair_raw\",\"legat_names\",\"@id\",\"caution\",\"age_max\",\"age_min\",\"warning_message\",\"reward_max\",\"ncic\"], axis = 1, inplace = True)\n"
   ]
  },
  {
   "cell_type": "code",
   "execution_count": 19,
   "metadata": {},
   "outputs": [],
   "source": [
    "df_final.drop([\"age_range\",\"reward_min\"], axis=1,inplace=True)"
   ]
  },
  {
   "cell_type": "code",
   "execution_count": 18,
   "metadata": {},
   "outputs": [
    {
     "data": {
      "text/html": [
       "<div>\n",
       "<style scoped>\n",
       "    .dataframe tbody tr th:only-of-type {\n",
       "        vertical-align: middle;\n",
       "    }\n",
       "\n",
       "    .dataframe tbody tr th {\n",
       "        vertical-align: top;\n",
       "    }\n",
       "\n",
       "    .dataframe thead th {\n",
       "        text-align: right;\n",
       "    }\n",
       "</style>\n",
       "<table border=\"1\" class=\"dataframe\">\n",
       "  <thead>\n",
       "    <tr style=\"text-align: right;\">\n",
       "      <th></th>\n",
       "      <th>height_min</th>\n",
       "      <th>aliases</th>\n",
       "      <th>age_range</th>\n",
       "      <th>race</th>\n",
       "      <th>weight</th>\n",
       "      <th>person_classification</th>\n",
       "      <th>scars_and_marks</th>\n",
       "      <th>coordinates</th>\n",
       "      <th>path</th>\n",
       "      <th>eyes</th>\n",
       "      <th>...</th>\n",
       "      <th>nationality</th>\n",
       "      <th>field_offices</th>\n",
       "      <th>languages</th>\n",
       "      <th>reward_min</th>\n",
       "      <th>height_max</th>\n",
       "      <th>dates_of_birth_used</th>\n",
       "      <th>place_of_birth</th>\n",
       "      <th>hair</th>\n",
       "      <th>sex</th>\n",
       "      <th>possible_countries</th>\n",
       "    </tr>\n",
       "  </thead>\n",
       "  <tbody>\n",
       "    <tr>\n",
       "      <th>0</th>\n",
       "      <td>NaN</td>\n",
       "      <td>[Jeanine Delbecq, Jeanine C. De Riddere, Jeani...</td>\n",
       "      <td>None</td>\n",
       "      <td>white</td>\n",
       "      <td>130 to 135 pounds (approximately 59 kg)</td>\n",
       "      <td>Accomplice</td>\n",
       "      <td>None</td>\n",
       "      <td>[]</td>\n",
       "      <td>/wanted/parental-kidnappings/jeanine-deriddere</td>\n",
       "      <td>brown</td>\n",
       "      <td>...</td>\n",
       "      <td>Congolese</td>\n",
       "      <td>[miami]</td>\n",
       "      <td>None</td>\n",
       "      <td>0</td>\n",
       "      <td>NaN</td>\n",
       "      <td>[April 24, 1955]</td>\n",
       "      <td>Democratic Republic of Congo</td>\n",
       "      <td>brown</td>\n",
       "      <td>Female</td>\n",
       "      <td>None</td>\n",
       "    </tr>\n",
       "    <tr>\n",
       "      <th>1</th>\n",
       "      <td>63.0</td>\n",
       "      <td>[Francina D. Fernandez, Francina Dacanay]</td>\n",
       "      <td>None</td>\n",
       "      <td>asian</td>\n",
       "      <td>100 pounds</td>\n",
       "      <td>Main</td>\n",
       "      <td>None</td>\n",
       "      <td>[]</td>\n",
       "      <td>/wanted/parental-kidnappings/francina-dacanay-...</td>\n",
       "      <td>brown</td>\n",
       "      <td>...</td>\n",
       "      <td>None</td>\n",
       "      <td>[sandiego]</td>\n",
       "      <td>None</td>\n",
       "      <td>0</td>\n",
       "      <td>63.0</td>\n",
       "      <td>[April 29, 1970]</td>\n",
       "      <td>Philippines</td>\n",
       "      <td>black</td>\n",
       "      <td>Female</td>\n",
       "      <td>None</td>\n",
       "    </tr>\n",
       "  </tbody>\n",
       "</table>\n",
       "<p>2 rows × 35 columns</p>\n",
       "</div>"
      ],
      "text/plain": [
       "   height_min                                            aliases age_range  \\\n",
       "0         NaN  [Jeanine Delbecq, Jeanine C. De Riddere, Jeani...      None   \n",
       "1        63.0          [Francina D. Fernandez, Francina Dacanay]      None   \n",
       "\n",
       "    race                                   weight person_classification  \\\n",
       "0  white  130 to 135 pounds (approximately 59 kg)            Accomplice   \n",
       "1  asian                               100 pounds                  Main   \n",
       "\n",
       "  scars_and_marks coordinates  \\\n",
       "0            None          []   \n",
       "1            None          []   \n",
       "\n",
       "                                                path   eyes  ... nationality  \\\n",
       "0     /wanted/parental-kidnappings/jeanine-deriddere  brown  ...   Congolese   \n",
       "1  /wanted/parental-kidnappings/francina-dacanay-...  brown  ...        None   \n",
       "\n",
       "  field_offices languages reward_min height_max dates_of_birth_used  \\\n",
       "0       [miami]      None          0        NaN    [April 24, 1955]   \n",
       "1    [sandiego]      None          0       63.0    [April 29, 1970]   \n",
       "\n",
       "                 place_of_birth   hair     sex possible_countries  \n",
       "0  Democratic Republic of Congo  brown  Female               None  \n",
       "1                   Philippines  black  Female               None  \n",
       "\n",
       "[2 rows x 35 columns]"
      ]
     },
     "execution_count": 18,
     "metadata": {},
     "output_type": "execute_result"
    }
   ],
   "source": [
    "df_final.head(2)"
   ]
  }
 ],
 "metadata": {
  "kernelspec": {
   "display_name": "iron",
   "language": "python",
   "name": "iron"
  },
  "language_info": {
   "codemirror_mode": {
    "name": "ipython",
    "version": 3
   },
   "file_extension": ".py",
   "mimetype": "text/x-python",
   "name": "python",
   "nbconvert_exporter": "python",
   "pygments_lexer": "ipython3",
   "version": "3.9.13"
  }
 },
 "nbformat": 4,
 "nbformat_minor": 4
}
